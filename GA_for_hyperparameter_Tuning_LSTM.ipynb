
{
  "nbformat": 4,
  "nbformat_minor": 0,
  "metadata": {
    "colab": {
      "name": "GA_for_hyperparameter_Tuning_LSTM.ipynb",
      "provenance": [],
      "collapsed_sections": []
    },
    "kernelspec": {
      "name": "python3",
      "display_name": "Python 3"
    },
    "accelerator": "GPU"
  },
  "cells": [
    {
      "cell_type": "markdown",
      "metadata": {
        "id": "teKcOo7Cq-sr"
      },
      "source": [
        "Required Modifications\n",
        "1)Add more features and label to the code\n",
        "2)Add more hyper-parameters to generate chormosomes\n",
        "3)Change the RMSE to acc"
      ]
    },
    {
      "cell_type": "code",
      "metadata": {
        "id": "U5c1cR8nA1E3",
        "colab": {
          "base_uri": "https://localhost:8080/",
          "height": 138
        },