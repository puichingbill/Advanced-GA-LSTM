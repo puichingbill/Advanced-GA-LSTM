
{
  "nbformat": 4,
  "nbformat_minor": 0,
  "metadata": {
    "colab": {
      "name": "GA_for_hyperparameter_Tuning_LSTM.ipynb",
      "provenance": [],
      "collapsed_sections": []
    },
    "kernelspec": {
      "name": "python3",
      "display_name": "Python 3"
    },
    "accelerator": "GPU"
  },
  "cells": [
    {
      "cell_type": "markdown",
      "metadata": {
        "id": "teKcOo7Cq-sr"
      },
      "source": [
        "Required Modifications\n",
        "1)Add more features and label to the code\n",
        "2)Add more hyper-parameters to generate chormosomes\n",
        "3)Change the RMSE to acc"
      ]
    },
    {
      "cell_type": "code",
      "metadata": {
        "id": "U5c1cR8nA1E3",
        "colab": {
          "base_uri": "https://localhost:8080/",
          "height": 138
        },
        "outputId": "b1d7a31a-72e1-4954-c35c-ea302c220c53"
      },
      "source": [
        "!pip install deap"
      ],
      "execution_count": null,
      "outputs": [
        {
          "output_type": "stream",
          "text": [
            "Collecting deap\n",
            "\u001b[?25l  Downloading https://files.pythonhosted.org/packages/0a/eb/2bd0a32e3ce757fb26264765abbaedd6d4d3640d90219a513aeabd08ee2b/deap-1.3.1-cp36-cp36m-manylinux2010_x86_64.whl (157kB)\n",
            "\r\u001b[K     |██                              | 10kB 28.9MB/s eta 0:00:01\r\u001b[K     |████▏                           | 20kB 28.3MB/s eta 0:00:01\r\u001b[K     |██████▎                         | 30kB 29.3MB/s eta 0:00:01\r\u001b[K     |████████▍                       | 40kB 30.3MB/s eta 0:00:01\r\u001b[K     |██████████▍                     | 51kB 30.6MB/s eta 0:00:01\r\u001b[K     |████████████▌                   | 61kB 31.4MB/s eta 0:00:01\r\u001b[K     |██████████████▋                 | 71kB 31.2MB/s eta 0:00:01\r\u001b[K     |████████████████▊               | 81kB 31.2MB/s eta 0:00:01\r\u001b[K     |██████████████████▊             | 92kB 31.3MB/s eta 0:00:01\r\u001b[K     |████████████████████▉           | 102kB 31.8MB/s eta 0:00:01\r\u001b[K     |███████████████████████         | 112kB 31.8MB/s eta 0:00:01\r\u001b[K     |█████████████████████████       | 122kB 31.8MB/s eta 0:00:01\r\u001b[K     |███████████████████████████▏    | 133kB 31.8MB/s eta 0:00:01\r\u001b[K     |█████████████████████████████▏  | 143kB 31.8MB/s eta 0:00:01\r\u001b[K     |███████████████████████████████▎| 153kB 31.8MB/s eta 0:00:01\r\u001b[K     |████████████████████████████████| 163kB 31.8MB/s \n",
            "\u001b[?25hRequirement already satisfied: numpy in /usr/local/lib/python3.6/dist-packages (from deap) (1.17.5)\n",
            "Installing collected packages: deap\n",
            "Successfully installed deap-1.3.1\n"
          ],
          "name": "stdout"
        }
      ]
    },
    {
      "cell_type": "code",
      "metadata": {
        "id": "7JHV7Oe8A9T-",
        "colab": {
          "base_uri": "https://localhost:8080/",
          "height": 104
        },
        "outputId": "b6115433-c106-4bea-82b0-83aeb70bc3fd"
      },
      "source": [
        "!pip install bitstring"
      ],
      "execution_count": null,
      "outputs": [
        {
          "output_type": "stream",
          "text": [
            "Collecting bitstring\n",
            "  Downloading https://files.pythonhosted.org/packages/c7/b9/ce7458b35633968eae3477a201a00f6c8e01cab0ccb200ea5099d41dd977/bitstring-3.1.6-py3-none-any.whl\n",
            "Installing collected packages: bitstring\n",
            "Successfully installed bitstring-3.1.6\n"
          ],
          "name": "stdout"
        }
      ]
    },
    {
      "cell_type": "code",
      "metadata": {
        "id": "aI4OoLagwKih",
        "colab": {
          "base_uri": "https://localhost:8080/",
          "height": 79
        },
        "outputId": "9a03c6c9-2afd-4241-d91b-f5596260d8ed"
      },
      "source": [
        "#Import necessary packages\n",
        "\n",
        "import numpy as np\n",
        "import pandas as pd\n",
        "from datetime import datetime\n",
        "from sklearn.metrics import mean_squared_error\n",
        "\n",
        "from deap import base, creator, tools, algorithms\n",
        "from scipy.stats import bernoulli\n",
        "from bitstring import BitArray\n",
        "from sklearn.preprocessing import MinMaxScaler\n",
        "\n",
        "from sklearn.preprocessing import LabelEncoder\n",
        "from keras.utils import np_utils\n",
        "\n",
        "from sklearn.model_selection import train_test_split\n",
        "from keras.models import Sequential\n",
        "from keras.layers import CuDNNLSTM\n",
        "from keras.layers import Dense\n",
        "from keras.layers import Dropout\n",
        "from keras import optimizers\n",
        "\n",
        "np.random.seed(1120)"
      ],
      "execution_count": null,
      "outputs": [
        {
          "output_type": "stream",
          "text": [
            "Using TensorFlow backend.\n"
          ],
          "name": "stderr"
        },
        {
          "output_type": "display_data",
          "data": {
            "text/html": [
              "<p style=\"color: red;\">\n",
              "The default version of TensorFlow in Colab will soon switch to TensorFlow 2.x.<br>\n",
              "We recommend you <a href=\"https://www.tensorflow.org/guide/migrate\" target=\"_blank\">upgrade</a> now \n",
              "or ensure your notebook will continue to use TensorFlow 1.x via the <code>%tensorflow_version 1.x</code> magic:\n",
              "<a href=\"https://colab.research.google.com/notebooks/tensorflow_version.ipynb\" target=\"_blank\">more info</a>.</p>\n"
            ],
            "text/plain": [
              "<IPython.core.display.HTML object>"
            ]
          },
          "metadata": {
            "tags": []
          }
        }
      ]
    },
    {
      "cell_type": "code",
      "metadata": {
        "id": "dMs1l6pawp3X",
        "colab": {
          "base_uri": "https://localhost:8080/",
          "height": 134
        },
        "outputId": "7168d913-aa8f-462a-f7a8-c248fe84eab7"
      },
      "source": [
        "dataset = pd.read_csv(\"Driving Data(KIA SOUL)_(150728-160714)_(10 Drivers_A-J).csv\")\n",
        "Y=dataset.Class\n",
        "X=dataset.drop('Class',axis=1)\n",
        "data=np.array(X)\n",
        "print(data)"
      ],
      "execution_count": null,
      "outputs": [
        {
          "output_type": "stream",
          "text": [
            "[[ 2.688e+02  0.000e+00  5.200e+00 ... -3.400e+00  1.000e+00  1.000e+00]\n",
            " [ 2.432e+02  0.000e+00  6.100e+00 ... -3.600e+00  2.000e+00  1.000e+00]\n",
            " [ 2.176e+02  0.000e+00  5.200e+00 ... -3.600e+00  3.000e+00  1.000e+00]\n",
            " ...\n",
            " [ 3.456e+02  0.000e+00  6.600e+00 ... -1.320e+01  2.566e+03  2.000e+00]\n",
            " [ 3.328e+02  0.000e+00  5.700e+00 ... -1.330e+01  2.567e+03  2.000e+00]\n",
            " [ 2.816e+02  0.000e+00  5.200e+00 ... -1.330e+01  2.568e+03  2.000e+00]]\n"