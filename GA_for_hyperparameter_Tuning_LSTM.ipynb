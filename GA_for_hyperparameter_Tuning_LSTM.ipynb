
{
  "nbformat": 4,
  "nbformat_minor": 0,
  "metadata": {
    "colab": {
      "name": "GA_for_hyperparameter_Tuning_LSTM.ipynb",
      "provenance": [],
      "collapsed_sections": []
    },
    "kernelspec": {
      "name": "python3",
      "display_name": "Python 3"
    },
    "accelerator": "GPU"
  },
  "cells": [
    {
      "cell_type": "markdown",
      "metadata": {
        "id": "teKcOo7Cq-sr"
      },
      "source": [
        "Required Modifications\n",
        "1)Add more features and label to the code\n",
        "2)Add more hyper-parameters to generate chormosomes\n",
        "3)Change the RMSE to acc"
      ]
    },
    {
      "cell_type": "code",
      "metadata": {
        "id": "U5c1cR8nA1E3",
        "colab": {
          "base_uri": "https://localhost:8080/",
          "height": 138
        },
        "outputId": "b1d7a31a-72e1-4954-c35c-ea302c220c53"
      },
      "source": [
        "!pip install deap"
      ],
      "execution_count": null,
      "outputs": [
        {
          "output_type": "stream",
          "text": [
            "Collecting deap\n",
            "\u001b[?25l  Downloading https://files.pythonhosted.org/packages/0a/eb/2bd0a32e3ce757fb26264765abbaedd6d4d3640d90219a513aeabd08ee2b/deap-1.3.1-cp36-cp36m-manylinux2010_x86_64.whl (157kB)\n",
            "\r\u001b[K     |██                              | 10kB 28.9MB/s eta 0:00:01\r\u001b[K     |████▏                           | 20kB 28.3MB/s eta 0:00:01\r\u001b[K     |██████▎                         | 30kB 29.3MB/s eta 0:00:01\r\u001b[K     |████████▍                       | 40kB 30.3MB/s eta 0:00:01\r\u001b[K     |██████████▍                     | 51kB 30.6MB/s eta 0:00:01\r\u001b[K     |████████████▌                   | 61kB 31.4MB/s eta 0:00:01\r\u001b[K     |██████████████▋                 | 71kB 31.2MB/s eta 0:00:01\r\u001b[K     |████████████████▊               | 81kB 31.2MB/s eta 0:00:01\r\u001b[K     |██████████████████▊             | 92kB 31.3MB/s eta 0:00:01\r\u001b[K     |████████████████████▉           | 102kB 31.8MB/s eta 0:00:01\r\u001b[K     |███████████████████████         | 112kB 31.8MB/s eta 0:00:01\r\u001b[K     |█████████████████████████       | 122kB 31.8MB/s eta 0:00:01\r\u001b[K     |███████████████████████████▏    | 133kB 31.8MB/s eta 0:00:01\r\u001b[K     |█████████████████████████████▏  | 143kB 31.8MB/s eta 0:00:01\r\u001b[K     |███████████████████████████████▎| 153kB 31.8MB/s eta 0:00:01\r\u001b[K     |████████████████████████████████| 163kB 31.8MB/s \n",
            "\u001b[?25hRequirement already satisfied: numpy in /usr/local/lib/python3.6/dist-packages (from deap) (1.17.5)\n",
            "Installing collected packages: deap\n",
            "Successfully installed deap-1.3.1\n"
          ],
          "name": "stdout"
        }
      ]
    },
    {
      "cell_type": "code",
      "metadata": {
        "id": "7JHV7Oe8A9T-",
        "colab": {
          "base_uri": "https://localhost:8080/",
          "height": 104
        },
        "outputId": "b6115433-c106-4bea-82b0-83aeb70bc3fd"
      },
      "source": [
        "!pip install bitstring"
      ],
      "execution_count": null,
      "outputs": [
        {