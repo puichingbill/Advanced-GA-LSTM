
{
  "nbformat": 4,
  "nbformat_minor": 0,
  "metadata": {
    "colab": {
      "name": "GA_for_hyperparameter_Tuning_LSTM.ipynb",
      "provenance": [],
      "collapsed_sections": []
    },
    "kernelspec": {
      "name": "python3",
      "display_name": "Python 3"
    },
    "accelerator": "GPU"
  },
  "cells": [
    {
      "cell_type": "markdown",
      "metadata": {
        "id": "teKcOo7Cq-sr"
      },
      "source": [
        "Required Modifications\n",
        "1)Add more features and label to the code\n",
        "2)Add more hyper-parameters to generate chormosomes\n",
        "3)Change the RMSE to acc"
      ]
    },
    {
      "cell_type": "code",
      "metadata": {
        "id": "U5c1cR8nA1E3",
        "colab": {
          "base_uri": "https://localhost:8080/",
          "height": 138
        },
        "outputId": "b1d7a31a-72e1-4954-c35c-ea302c220c53"
      },
      "source": [
        "!pip install deap"
      ],
      "execution_count": null,
      "outputs": [
        {
          "output_type": "stream",
          "text": [
            "Collecting deap\n",
            "\u001b[?25l  Downloading https://files.pythonhosted.org/packages/0a/eb/2bd0a32e3ce757fb26264765abbaedd6d4d3640d90219a513aeabd08ee2b/deap-1.3.1-cp36-cp36m-manylinux2010_x86_64.whl (157kB)\n",
            "\r\u001b[K     |██                              | 10kB 28.9MB/s eta 0:00:01\r\u001b[K     |████▏                           | 20kB 28.3MB/s eta 0:00:01\r\u001b[K     |██████▎                         | 30kB 29.3MB/s eta 0:00:01\r\u001b[K     |████████▍                       | 40kB 30.3MB/s eta 0:00:01\r\u001b[K     |██████████▍                     | 51kB 30.6MB/s eta 0:00:01\r\u001b[K     |████████████▌                   | 61kB 31.4MB/s eta 0:00:01\r\u001b[K     |██████████████▋                 | 71kB 31.2MB/s eta 0:00:01\r\u001b[K     |████████████████▊               | 81kB 31.2MB/s eta 0:00:01\r\u001b[K     |██████████████████▊             | 92kB 31.3MB/s eta 0:00:01\r\u001b[K     |████████████████████▉           | 102kB 31.8MB/s eta 0:00:01\r\u001b[K     |███████████████████████         | 112kB 31.8MB/s eta 0:00:01\r\u001b[K     |█████████████████████████       | 122kB 31.8MB/s eta 0:00:01\r\u001b[K     |███████████████████████████▏    | 133kB 31.8MB/s eta 0:00:01\r\u001b[K     |█████████████████████████████▏  | 143kB 31.8MB/s eta 0:00:01\r\u001b[K     |███████████████████████████████▎| 153kB 31.8MB/s eta 0:00:01\r\u001b[K     |████████████████████████████████| 163kB 31.8MB/s \n",
            "\u001b[?25hRequirement already satisfied: numpy in /usr/local/lib/python3.6/dist-packages (from deap) (1.17.5)\n",
            "Installing collected packages: deap\n",
            "Successfully installed deap-1.3.1\n"
          ],
          "name": "stdout"
        }
      ]
    },
    {
      "cell_type": "code",
      "metadata": {
        "id": "7JHV7Oe8A9T-",
        "colab": {
          "base_uri": "https://localhost:8080/",
          "height": 104
        },
        "outputId": "b6115433-c106-4bea-82b0-83aeb70bc3fd"
      },
      "source": [
        "!pip install bitstring"
      ],
      "execution_count": null,
      "outputs": [
        {
          "output_type": "stream",
          "text": [
            "Collecting bitstring\n",
            "  Downloading https://files.pythonhosted.org/packages/c7/b9/ce7458b35633968eae3477a201a00f6c8e01cab0ccb200ea5099d41dd977/bitstring-3.1.6-py3-none-any.whl\n",
            "Installing collected packages: bitstring\n",
            "Successfully installed bitstring-3.1.6\n"
          ],
          "name": "stdout"
        }
      ]
    },
    {
      "cell_type": "code",
      "metadata": {
        "id": "aI4OoLagwKih",
        "colab": {
          "base_uri": "https://localhost:8080/",
          "height": 79
        },
        "outputId": "9a03c6c9-2afd-4241-d91b-f5596260d8ed"
      },
      "source": [
        "#Import necessary packages\n",
        "\n",
        "import numpy as np\n",
        "import pandas as pd\n",
        "from datetime import datetime\n",
        "from sklearn.metrics import mean_squared_error\n",
        "\n",
        "from deap import base, creator, tools, algorithms\n",
        "from scipy.stats import bernoulli\n",
        "from bitstring import BitArray\n",
        "from sklearn.preprocessing import MinMaxScaler\n",
        "\n",
        "from sklearn.preprocessing import LabelEncoder\n",
        "from keras.utils import np_utils\n",
        "\n",
        "from sklearn.model_selection import train_test_split\n",
        "from keras.models import Sequential\n",
        "from keras.layers import CuDNNLSTM\n",
        "from keras.layers import Dense\n",
        "from keras.layers import Dropout\n",
        "from keras import optimizers\n",
        "\n",
        "np.random.seed(1120)"
      ],
      "execution_count": null,
      "outputs": [
        {
          "output_type": "stream",
          "text": [
            "Using TensorFlow backend.\n"
          ],
          "name": "stderr"
        },
        {
          "output_type": "display_data",
          "data": {
            "text/html": [
              "<p style=\"color: red;\">\n",
              "The default version of TensorFlow in Colab will soon switch to TensorFlow 2.x.<br>\n",
              "We recommend you <a href=\"https://www.tensorflow.org/guide/migrate\" target=\"_blank\">upgrade</a> now \n",
              "or ensure your notebook will continue to use TensorFlow 1.x via the <code>%tensorflow_version 1.x</code> magic:\n",
              "<a href=\"https://colab.research.google.com/notebooks/tensorflow_version.ipynb\" target=\"_blank\">more info</a>.</p>\n"
            ],
            "text/plain": [
              "<IPython.core.display.HTML object>"
            ]
          },
          "metadata": {
            "tags": []
          }
        }
      ]
    },
    {
      "cell_type": "code",
      "metadata": {
        "id": "dMs1l6pawp3X",
        "colab": {
          "base_uri": "https://localhost:8080/",
          "height": 134
        },
        "outputId": "7168d913-aa8f-462a-f7a8-c248fe84eab7"
      },
      "source": [
        "dataset = pd.read_csv(\"Driving Data(KIA SOUL)_(150728-160714)_(10 Drivers_A-J).csv\")\n",
        "Y=dataset.Class\n",
        "X=dataset.drop('Class',axis=1)\n",
        "data=np.array(X)\n",
        "print(data)"
      ],
      "execution_count": null,
      "outputs": [
        {
          "output_type": "stream",
          "text": [
            "[[ 2.688e+02  0.000e+00  5.200e+00 ... -3.400e+00  1.000e+00  1.000e+00]\n",
            " [ 2.432e+02  0.000e+00  6.100e+00 ... -3.600e+00  2.000e+00  1.000e+00]\n",
            " [ 2.176e+02  0.000e+00  5.200e+00 ... -3.600e+00  3.000e+00  1.000e+00]\n",
            " ...\n",
            " [ 3.456e+02  0.000e+00  6.600e+00 ... -1.320e+01  2.566e+03  2.000e+00]\n",
            " [ 3.328e+02  0.000e+00  5.700e+00 ... -1.330e+01  2.567e+03  2.000e+00]\n",
            " [ 2.816e+02  0.000e+00  5.200e+00 ... -1.330e+01  2.568e+03  2.000e+00]]\n"
          ],
          "name": "stdout"
        }
      ]
    },
    {
      "cell_type": "code",
      "metadata": {
        "id": "d1423Jwsj_dq",
        "colab": {
          "base_uri": "https://localhost:8080/",
          "height": 235
        },
        "outputId": "b7b6ab3e-a440-429d-fe35-441c38418f44"
      },
      "source": [
        "#standardize dataset\n",
        "from sklearn import preprocessing\n",
        "min_max_scaler = preprocessing.MinMaxScaler()\n",
        "x_train_scaled = min_max_scaler.fit_transform(data)\n",
        "x_train_scaled"
      ],
      "execution_count": null,
      "outputs": [
        {
          "output_type": "execute_result",
          "data": {
            "text/plain": [
              "array([[2.45901639e-02, 0.00000000e+00, 5.20000000e-02, ...,\n",
              "        4.90306561e-01, 0.00000000e+00, 0.00000000e+00],\n",
              "       [2.22482436e-02, 0.00000000e+00, 6.10000000e-02, ...,\n",
              "        4.90115557e-01, 3.39328130e-04, 0.00000000e+00],\n",
              "       [1.99063232e-02, 0.00000000e+00, 5.20000000e-02, ...,\n",
              "        4.90115557e-01, 6.78656261e-04, 0.00000000e+00],\n",
              "       ...,\n",
              "       [3.16159251e-02, 0.00000000e+00, 6.60000000e-02, ...,\n",
              "        4.80947378e-01, 8.70376654e-01, 1.00000000e+00],\n",
              "       [3.04449649e-02, 0.00000000e+00, 5.70000000e-02, ...,\n",
              "        4.80851877e-01, 8.70715982e-01, 1.00000000e+00],\n",
              "       [2.57611241e-02, 0.00000000e+00, 5.20000000e-02, ...,\n",
              "        4.80851877e-01, 8.71055310e-01, 1.00000000e+00]])"
            ]
          },
          "metadata": {
            "tags": []
          },
          "execution_count": 5
        }
      ]
    },
    {
      "cell_type": "code",
      "metadata": {
        "id": "3-epa6X1w6Uv",
        "colab": {
          "base_uri": "https://localhost:8080/",
          "height": 134
        },
        "outputId": "e911480a-bd98-4218-b186-499fd887487e"
      },
      "source": [
        "#convert Y(output label) to numpy array\n",
        "array_y=Y.to_numpy()\n",
        "\n",
        "#convert label class to one hot encoded format\n",
        "encoder = LabelEncoder()\n",
        "encoder.fit(array_y)\n",
        "encoded_Y = encoder.transform(array_y)\n",
        "encoded_y = np_utils.to_categorical(encoded_Y)\n",
        "print(encoded_y)"
      ],
      "execution_count": null,
      "outputs": [
        {
          "output_type": "stream",
          "text": [
            "[[1. 0. 0. ... 0. 0. 0.]\n",
            " [1. 0. 0. ... 0. 0. 0.]\n",
            " [1. 0. 0. ... 0. 0. 0.]\n",
            " ...\n",
            " [0. 0. 0. ... 0. 0. 0.]\n",
            " [0. 0. 0. ... 0. 0. 0.]\n",
            " [0. 0. 0. ... 0. 0. 0.]]\n"
          ],
          "name": "stdout"
        }
      ]
    },
    {
      "cell_type": "code",
      "metadata": {
        "id": "5aq_MhPbxbzf"
      },
      "source": [
        "#Add the parameters into chromosomes and define the LSTM network model\n",
        "#import random\n",
        "import math\n",
        "\n",
        "def train_evaluate(ga_individual_solution):   \n",
        "    # Decode GA solution to integer for num_neurons1, epochs and batch_size \n",
        "    num_neurons1_bits = BitArray(ga_individual_solution[0:9])\n",
        "    num_neurons2_bits = BitArray(ga_individual_solution[9:18])\n",
        "    epoch_bits = BitArray(ga_individual_solution[18:25]) \n",
        "    batch_size_bits = BitArray(ga_individual_solution[25:35])\n",
        "    learning_rate_bits = BitArray(ga_individual_solution[35:])\n",
        "   \n",
        "    num_neurons1 = num_neurons1_bits.uint\n",
        "    num_neurons2 = num_neurons2_bits.uint\n",
        "    epoch = epoch_bits.uint\n",
        "    Batch_size = batch_size_bits.uint\n",
        "    temp = learning_rate_bits.uint\n",
        "    learning_rate = temp*(math.exp(-9))\n",
        "    \n",
        "    print('\\nNum of neurons1: ', num_neurons1,'\\nNum of neurons2',num_neurons2, '\\nEpoch:', epoch,'\\nBatch size:',Batch_size,'\\nLearning rate:',learning_rate)\n",
        "    \n",
        "    # Return fitness score of 100 if window_size or num_unit is zero\n",
        "    if num_neurons1 < 100 or num_neurons2 < 100 or epoch < 100 or Batch_size < 500  or learning_rate < 0:\n",
        "      return 0,\n",
        "    \n",
        "    #split into train and validation (80/20)\n",
        "    x_train,x_test,y_train,y_test=train_test_split(x_train_scaled,encoded_y,test_size=0.2)\n",
        "    \n",
        "    #converting the input train and test set to array format\n",
        "    x_train=np.array(x_train)\n",
        "    x_test=np.array(x_test)\n",
        "    \n",
        "    #reshape input data according to LSTM model requirements\n",
        "    x_train_modified = x_train.reshape(x_train.shape[0],1,x_train.shape[1])\n",
        "    x_test_modified = x_test.reshape(x_test.shape[0],1,x_test.shape[1])\n",
        "    \n",
        "    #Design the LSTM model\n",
        "    \n",
        "    optimizer=optimizers.Adam(lr=learning_rate, beta_1=0.9, beta_2=0.999, amsgrad=False)\n",
        "    \n",
        "    model = Sequential()\n",
        "    model.add(CuDNNLSTM(num_neurons1, input_shape=(x_train_modified.shape[1],x_train_modified.shape[2]), return_sequences=True))\n",
        "    model.add(Dropout(0.2))\n",
        "    model.add(CuDNNLSTM(num_neurons2))\n",
        "    model.add(Dropout(0.2))\n",
        "    model.add(Dense(y_train.shape[1], activation='softmax'))\n",
        "    model.compile(loss='categorical_crossentropy',optimizer='adam',metrics=['accuracy'])\n",
        "    model.summary()\n",
        "    \n",
        "    #model.fit(x_train_modified, y_train, epochs=epoch, batch_size=Batch_size)\n",
        "\n",
        "    history=model.fit(x_train_modified, y_train, epochs=epoch, batch_size=Batch_size,verbose=0)\n",
        "    y_pred = model.predict(x_test_modified)\n",
        "    acc=history.history['acc']\n",
        "    maxacc=round(max(acc),5)\n",
        "    #rmse = np.sqrt(mean_squared_error(y_test, y_pred))\n",
        "    print('Validation Accuracy : ', maxacc,'\\n')\n",
        "    #print('Accuracy:', max(acc))\n",
        "    \n",
        "    return maxacc,"
      ],
      "execution_count": null,
      "outputs": []
    },
    {
      "cell_type": "code",
      "metadata": {
        "id": "fSK2p6-RyDnd",
        "colab": {
          "base_uri": "https://localhost:8080/",
          "height": 1000
        },
        "outputId": "76654c7b-bce7-48fb-f5d4-e1e2759b9902"
      },
      "source": [
        "population_size = 50\n",
        "num_generations = 20\n",
        "gene_length = 42\n",
        "\n",
        "# As we are trying to minimize the RMSE score, that's why using -1.0. \n",
        "# In case, when you want to maximize accuracy for instance, use 1.0\n",
        "creator.create('FitnessMax', base.Fitness, weights = (1.0,))\n",
        "creator.create('Individual', list , fitness = creator.FitnessMax)\n",
        "\n",
        "toolbox = base.Toolbox()\n",
        "toolbox.register('binary', bernoulli.rvs, 0.5)\n",
        "toolbox.register('individual', tools.initRepeat, creator.Individual, toolbox.binary, n = gene_length)\n",
        "toolbox.register('population', tools.initRepeat, list , toolbox.individual)\n",
        "\n",
        "toolbox.register('mate', tools.cxOrdered)\n",
        "toolbox.register('mutate', tools.mutShuffleIndexes, indpb = 0.6)\n",
        "toolbox.register('select', tools.selRoulette)\n",
        "toolbox.register('evaluate', train_evaluate)\n",
        "\n",
        "population = toolbox.population(n = population_size)\n",
        "start_time = datetime.now()\n",
        "print(\"Start time:\", start_time)\n",
        "r = algorithms.eaSimple(population, toolbox, cxpb = 0.4, mutpb = 0.1, ngen = num_generations, verbose = False)\n",
        "end_time = datetime.now()\n",
        "print('End time:',end_time)\n",
        "time_elapsed = end_time-start_time\n",
        "print('Time elapsed (hh:mm:ss.ms) {}'.format(time_elapsed))"
      ],
      "execution_count": null,
      "outputs": [
        {
          "output_type": "stream",
          "text": [
            "Start time: 2020-03-07 10:28:30.517595\n",